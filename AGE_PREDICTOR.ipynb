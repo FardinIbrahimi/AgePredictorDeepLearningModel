{
 "cells": [
  {
   "cell_type": "code",
   "execution_count": 43,
   "id": "daf70108",
   "metadata": {},
   "outputs": [
    {
     "name": "stdout",
     "output_type": "stream",
     "text": [
      "done\n"
     ]
    }
   ],
   "source": [
    "import numpy as np \n",
    "import pandas as pd \n",
    "import matplotlib.pyplot as plt\n",
    "import seaborn as sns\n",
    "sns.set()\n",
    "\n",
    "from keras.models import Sequential\n",
    "from keras.layers import Conv2D, Dropout, BatchNormalization, Flatten, Dense, MaxPooling2D\n",
    "from keras.utils import to_categorical\n",
    "from keras.callbacks import EarlyStopping, ReduceLROnPlateau\n",
    "from keras.optimizers import Adam\n",
    "\n",
    "from sklearn.metrics import mean_absolute_error, confusion_matrix, classification_report\n",
    "from sklearn.model_selection import train_test_split\n",
    "print (\"done\")"
   ]
  },
  {
   "cell_type": "code",
   "execution_count": 44,
   "id": "88a8e9a7",
   "metadata": {},
   "outputs": [],
   "source": [
    "df = pd.read_csv('age_gender.csv')"
   ]
  },
  {
   "cell_type": "code",
   "execution_count": 45,
   "id": "472c728f",
   "metadata": {},
   "outputs": [
    {
     "data": {
      "text/html": [
       "<div>\n",
       "<style scoped>\n",
       "    .dataframe tbody tr th:only-of-type {\n",
       "        vertical-align: middle;\n",
       "    }\n",
       "\n",
       "    .dataframe tbody tr th {\n",
       "        vertical-align: top;\n",
       "    }\n",
       "\n",
       "    .dataframe thead th {\n",
       "        text-align: right;\n",
       "    }\n",
       "</style>\n",
       "<table border=\"1\" class=\"dataframe\">\n",
       "  <thead>\n",
       "    <tr style=\"text-align: right;\">\n",
       "      <th></th>\n",
       "      <th>count</th>\n",
       "      <th>mean</th>\n",
       "      <th>std</th>\n",
       "      <th>min</th>\n",
       "      <th>25%</th>\n",
       "      <th>50%</th>\n",
       "      <th>75%</th>\n",
       "      <th>max</th>\n",
       "    </tr>\n",
       "  </thead>\n",
       "  <tbody>\n",
       "    <tr>\n",
       "      <th>age</th>\n",
       "      <td>23705.0</td>\n",
       "      <td>33.300907</td>\n",
       "      <td>19.885708</td>\n",
       "      <td>1.0</td>\n",
       "      <td>23.0</td>\n",
       "      <td>29.0</td>\n",
       "      <td>45.0</td>\n",
       "      <td>116.0</td>\n",
       "    </tr>\n",
       "    <tr>\n",
       "      <th>ethnicity</th>\n",
       "      <td>23705.0</td>\n",
       "      <td>1.269226</td>\n",
       "      <td>1.345638</td>\n",
       "      <td>0.0</td>\n",
       "      <td>0.0</td>\n",
       "      <td>1.0</td>\n",
       "      <td>2.0</td>\n",
       "      <td>4.0</td>\n",
       "    </tr>\n",
       "    <tr>\n",
       "      <th>gender</th>\n",
       "      <td>23705.0</td>\n",
       "      <td>0.477283</td>\n",
       "      <td>0.499494</td>\n",
       "      <td>0.0</td>\n",
       "      <td>0.0</td>\n",
       "      <td>0.0</td>\n",
       "      <td>1.0</td>\n",
       "      <td>1.0</td>\n",
       "    </tr>\n",
       "  </tbody>\n",
       "</table>\n",
       "</div>"
      ],
      "text/plain": [
       "             count       mean        std  min   25%   50%   75%    max\n",
       "age        23705.0  33.300907  19.885708  1.0  23.0  29.0  45.0  116.0\n",
       "ethnicity  23705.0   1.269226   1.345638  0.0   0.0   1.0   2.0    4.0\n",
       "gender     23705.0   0.477283   0.499494  0.0   0.0   0.0   1.0    1.0"
      ]
     },
     "execution_count": 45,
     "metadata": {},
     "output_type": "execute_result"
    }
   ],
   "source": [
    "df.describe().transpose()"
   ]
  },
  {
   "cell_type": "code",
   "execution_count": 47,
   "id": "31cc33af",
   "metadata": {},
   "outputs": [
    {
     "name": "stderr",
     "output_type": "stream",
     "text": [
      "C:\\Users\\Fardin\\AppData\\Local\\Programs\\Python\\Python310\\lib\\site-packages\\seaborn\\distributions.py:2619: FutureWarning: `distplot` is a deprecated function and will be removed in a future version. Please adapt your code to use either `displot` (a figure-level function with similar flexibility) or `histplot` (an axes-level function for histograms).\n",
      "  warnings.warn(msg, FutureWarning)\n"
     ]
    },
    {
     "data": {
      "image/png": "[encoded data removed]",
      "text/plain": [
       "<Figure size 432x288 with 1 Axes>"
      ]
     },
     "metadata": {},
     "output_type": "display_data"
    }
   ],
   "source": [
    "# Age\n",
    "sns.distplot(df['age']);"
   ]
  },
  {
   "cell_type": "code",
   "execution_count": 48,
   "id": "5567e809",
   "metadata": {},
   "outputs": [
    {
     "name": "stderr",
     "output_type": "stream",
     "text": [
      "C:\\Users\\Fardin\\AppData\\Local\\Programs\\Python\\Python310\\lib\\site-packages\\seaborn\\_decorators.py:36: FutureWarning: Pass the following variable as a keyword arg: x. From version 0.12, the only valid positional argument will be `data`, and passing other arguments without an explicit keyword will result in an error or misinterpretation.\n",
      "  warnings.warn(\n"
     ]
    },
    {
     "data": {
      "image/png": "[encoded data removed]",
      "text/plain": [
       "<Figure size 432x288 with 1 Axes>"
      ]
     },
     "metadata": {},
     "output_type": "display_data"
    }
   ],
   "source": [
    "# Ethnicity\n",
    "sns.countplot(df['ethnicity']);"
   ]
  },
  {
   "cell_type": "code",
   "execution_count": 49,
   "id": "2049952e",
   "metadata": {},
   "outputs": [
    {
     "name": "stdout",
     "output_type": "stream",
     "text": [
      "Done\n"
     ]
    }
   ],
   "source": [
    "#Actually imaeges in dataset are in string format, let's transform it in more useful type of data.\n",
    "df['pixels'] = df['pixels'].map(lambda x: np.array(x.split(' '), dtype=np.float32).reshape(48, 48))\n",
    "print (\"Done\")"
   ]
  },
  {
   "cell_type": "code",
   "execution_count": 96,
   "id": "2589ebc0",
   "metadata": {},
   "outputs": [
    {
     "data": {
      "image/png": "[encoded data removed]",
      "text/plain": [
       "<Figure size 1440x720 with 5 Axes>"
      ]
     },
     "metadata": {},
     "output_type": "display_data"
    }
   ],
   "source": [
    "# Plot some pictures\n",
    "fig, axes = plt.subplots(1, 5, figsize=(20, 10))\n",
    "\n",
    "for i in range(5):\n",
    "    random_face = np.random.choice(len(df))\n",
    "    \n",
    "    age = df['age'][random_face]\n",
    "    ethnicity = df['ethnicity'][random_face]\n",
    "    gender = df['gender'][random_face]\n",
    "    \n",
    "    axes[i].set_title('Age: {0}, Ethnicity: {1}, Sex: {2}'.format(age, ethnicity, gender))\n",
    "    axes[i].imshow(df['pixels'][random_face])\n",
    "    axes[i].axis('off')"
   ]
  },
  {
   "cell_type": "code",
   "execution_count": 51,
   "id": "593b1244",
   "metadata": {},
   "outputs": [
    {
     "name": "stdout",
     "output_type": "stream",
     "text": [
      "Done\n"
     ]
    }
   ],
   "source": [
    "# Reshape images for CNN\n",
    "X = np.array(df['pixels'].to_list())\n",
    "X_reshaped = X.reshape(X.shape[0], 48, 48, 1)\n",
    "print(\"Done\")"
   ]
  },
  {
   "cell_type": "code",
   "execution_count": 52,
   "id": "7ba3a573",
   "metadata": {},
   "outputs": [
    {
     "name": "stdout",
     "output_type": "stream",
     "text": [
      "Done\n"
     ]
    }
   ],
   "source": [
    "#Age prediction\n",
    "#So let's start with age prediction.\n",
    "# Set y\n",
    "y = df['age'].values\n",
    "print (\"Done\")"
   ]
  },
  {
   "cell_type": "code",
   "execution_count": 53,
   "id": "188d71fd",
   "metadata": {},
   "outputs": [
    {
     "name": "stdout",
     "output_type": "stream",
     "text": [
      "Done\n"
     ]
    }
   ],
   "source": [
    "# Train test split\n",
    "X_train, X_test, y_train, y_test = train_test_split(X_reshaped, y, test_size=0.2, random_state=42)\n",
    "print(\"Done\")"
   ]
  },
  {
   "cell_type": "code",
   "execution_count": 55,
   "id": "e4d98477",
   "metadata": {},
   "outputs": [
    {
     "name": "stdout",
     "output_type": "stream",
     "text": [
      "Model: \"sequential_11\"\n",
      "_________________________________________________________________\n",
      " Layer (type)                Output Shape              Param #   \n",
      "=================================================================\n",
      " conv2d_10 (Conv2D)          (None, 46, 46, 64)        640       \n",
      "                                                                 \n",
      " max_pooling2d (MaxPooling2D  (None, 23, 23, 64)       0         \n",
      " )                                                               \n",
      "                                                                 \n",
      " batch_normalization (BatchN  (None, 23, 23, 64)       256       \n",
      " ormalization)                                                   \n",
      "                                                                 \n",
      " conv2d_11 (Conv2D)          (None, 23, 23, 128)       73856     \n",
      "                                                                 \n",
      " conv2d_12 (Conv2D)          (None, 21, 21, 128)       147584    \n",
      "                                                                 \n",
      " max_pooling2d_1 (MaxPooling  (None, 10, 10, 128)      0         \n",
      " 2D)                                                             \n",
      "                                                                 \n",
      " dropout (Dropout)           (None, 10, 10, 128)       0         \n",
      "                                                                 \n",
      " batch_normalization_1 (Batc  (None, 10, 10, 128)      512       \n",
      " hNormalization)                                                 \n",
      "                                                                 \n",
      " conv2d_13 (Conv2D)          (None, 10, 10, 256)       295168    \n",
      "                                                                 \n",
      " conv2d_14 (Conv2D)          (None, 8, 8, 256)         590080    \n",
      "                                                                 \n",
      " max_pooling2d_2 (MaxPooling  (None, 4, 4, 256)        0         \n",
      " 2D)                                                             \n",
      "                                                                 \n",
      " dropout_1 (Dropout)         (None, 4, 4, 256)         0         \n",
      "                                                                 \n",
      " batch_normalization_2 (Batc  (None, 4, 4, 256)        1024      \n",
      " hNormalization)                                                 \n",
      "                                                                 \n",
      " conv2d_15 (Conv2D)          (None, 4, 4, 512)         1180160   \n",
      "                                                                 \n",
      " max_pooling2d_3 (MaxPooling  (None, 2, 2, 512)        0         \n",
      " 2D)                                                             \n",
      "                                                                 \n",
      " dropout_2 (Dropout)         (None, 2, 2, 512)         0         \n",
      "                                                                 \n",
      " batch_normalization_3 (Batc  (None, 2, 2, 512)        2048      \n",
      " hNormalization)                                                 \n",
      "                                                                 \n",
      " flatten (Flatten)           (None, 2048)              0         \n",
      "                                                                 \n",
      " dense (Dense)               (None, 128)               262272    \n",
      "                                                                 \n",
      " dropout_3 (Dropout)         (None, 128)               0         \n",
      "                                                                 \n",
      " dense_1 (Dense)             (None, 1)                 129       \n",
      "                                                                 \n",
      "=================================================================\n",
      "Total params: 2,553,729\n",
      "Trainable params: 2,551,809\n",
      "Non-trainable params: 1,920\n",
      "_________________________________________________________________\n"
     ]
    }
   ],
   "source": [
    "age_model = Sequential()\n",
    "age_model.add(Conv2D(64, kernel_size=(3,3), input_shape= (48,48,1), activation='relu'))\n",
    "age_model.add(MaxPooling2D(pool_size=(2,2)))\n",
    "age_model.add(BatchNormalization())\n",
    "\n",
    "age_model.add(Conv2D(128, kernel_size=(3,3), activation='relu', padding='same'))\n",
    "age_model.add(Conv2D(128, kernel_size=(3,3), activation='relu'))\n",
    "age_model.add(MaxPooling2D(pool_size=(2,2)))\n",
    "age_model.add(Dropout(0.3))\n",
    "age_model.add(BatchNormalization())\n",
    "\n",
    "age_model.add(Conv2D(256, kernel_size=(3,3), activation='relu', padding='same'))\n",
    "age_model.add(Conv2D(256, kernel_size=(3,3), activation='relu'))\n",
    "age_model.add(MaxPooling2D(pool_size=(2,2)))\n",
    "age_model.add(Dropout(0.3))\n",
    "age_model.add(BatchNormalization())\n",
    "\n",
    "age_model.add(Conv2D(512, kernel_size=(3,3), activation='relu', padding='same'))\n",
    "age_model.add(MaxPooling2D(pool_size=(2,2)))\n",
    "age_model.add(Dropout(0.5))\n",
    "age_model.add(BatchNormalization())\n",
    "\n",
    "age_model.add(Flatten())\n",
    "age_model.add(Dense(128, activation='relu'))\n",
    "age_model.add(Dropout(0.4))\n",
    "age_model.add(Dense(1))\n",
    "\n",
    "age_model.compile(optimizer='adam', loss='mse')\n",
    "\n",
    "age_model.summary()"
   ]
  },
  {
   "cell_type": "code",
   "execution_count": 57,
   "id": "27b39eae",
   "metadata": {},
   "outputs": [
    {
     "name": "stdout",
     "output_type": "stream",
     "text": [
      "Done\n"
     ]
    }
   ],
   "source": [
    "# Callbacks for age model\n",
    "callbacks = [EarlyStopping(patience=4, monitor='val_loss', mode='min'), \n",
    "             ReduceLROnPlateau(patience=2, verbose=1)]\n",
    "print(\"Done\")"
   ]
  },
  {
   "cell_type": "code",
   "execution_count": 59,
   "id": "a1019cdc",
   "metadata": {},
   "outputs": [
    {
     "name": "stdout",
     "output_type": "stream",
     "text": [
      "Epoch 1/10\n",
      "297/297 [==============================] - 1846s 6s/step - loss: 232.0382 - val_loss: 339.8120 - lr: 0.0010\n",
      "Epoch 2/10\n",
      "297/297 [==============================] - 1784s 6s/step - loss: 146.7835 - val_loss: 146.6593 - lr: 0.0010\n",
      "Epoch 3/10\n",
      "297/297 [==============================] - 1780s 6s/step - loss: 127.1237 - val_loss: 294.0682 - lr: 0.0010\n",
      "Epoch 4/10\n",
      "297/297 [==============================] - ETA: 0s - loss: 113.8569\n",
      "Epoch 4: ReduceLROnPlateau reducing learning rate to 0.00010000000474974513.\n",
      "297/297 [==============================] - 1789s 6s/step - loss: 113.8569 - val_loss: 394.9193 - lr: 0.0010\n",
      "Epoch 5/10\n",
      "297/297 [==============================] - 1815s 6s/step - loss: 91.5132 - val_loss: 117.9625 - lr: 1.0000e-04\n",
      "Epoch 6/10\n",
      "297/297 [==============================] - 1911s 6s/step - loss: 86.7330 - val_loss: 76.2085 - lr: 1.0000e-04\n",
      "Epoch 7/10\n",
      "297/297 [==============================] - 1793s 6s/step - loss: 83.3462 - val_loss: 83.2387 - lr: 1.0000e-04\n",
      "Epoch 8/10\n",
      "297/297 [==============================] - ETA: 0s - loss: 81.2596\n",
      "Epoch 8: ReduceLROnPlateau reducing learning rate to 1.0000000474974514e-05.\n",
      "297/297 [==============================] - 1814s 6s/step - loss: 81.2596 - val_loss: 81.5458 - lr: 1.0000e-04\n",
      "Epoch 9/10\n",
      "297/297 [==============================] - 1951s 7s/step - loss: 77.1494 - val_loss: 73.4142 - lr: 1.0000e-05\n",
      "Epoch 10/10\n",
      "297/297 [==============================] - 2304s 8s/step - loss: 76.0015 - val_loss: 71.5088 - lr: 1.0000e-05\n"
     ]
    }
   ],
   "source": [
    "history = age_model.fit(X_train, y_train, \n",
    "                        epochs=10,\n",
    "                        batch_size=64,\n",
    "                        callbacks=callbacks,\n",
    "                        validation_data=(X_test, y_test))"
   ]
  },
  {
   "cell_type": "code",
   "execution_count": 60,
   "id": "0a6be992",
   "metadata": {},
   "outputs": [
    {
     "data": {
      "text/plain": [
       "<AxesSubplot:>"
      ]
     },
     "execution_count": 60,
     "metadata": {},
     "output_type": "execute_result"
    },
    {
     "data": {
      "image/png": "[encoded data removed]",
      "text/plain": [
       "<Figure size 432x288 with 1 Axes>"
      ]
     },
     "metadata": {},
     "output_type": "display_data"
    }
   ],
   "source": [
    "pd.DataFrame(history.history).plot()"
   ]
  },
  {
   "cell_type": "code",
   "execution_count": 61,
   "id": "39383c20",
   "metadata": {},
   "outputs": [
    {
     "name": "stdout",
     "output_type": "stream",
     "text": [
      "149/149 [==============================] - 117s 785ms/step - loss: 71.5088\n"
     ]
    }
   ],
   "source": [
    "valid_score = age_model.evaluate(X_test, y_test, verbose=1)"
   ]
  },
  {
   "cell_type": "code",
   "execution_count": 62,
   "id": "febad6df",
   "metadata": {},
   "outputs": [
    {
     "name": "stdout",
     "output_type": "stream",
     "text": [
      "149/149 [==============================] - 123s 814ms/step\n"
     ]
    }
   ],
   "source": [
    "# Make predictions \n",
    "y_pred = age_model.predict(X_test)"
   ]
  },
  {
   "cell_type": "code",
   "execution_count": 64,
   "id": "a292ff9c",
   "metadata": {},
   "outputs": [
    {
     "name": "stdout",
     "output_type": "stream",
     "text": [
      "MAE: 6.045272867203362\n"
     ]
    }
   ],
   "source": [
    "# Mean absolute error\n",
    "print(\"MAE: {}\".format(mean_absolute_error(y_test, y_pred)))"
   ]
  },
  {
   "cell_type": "code",
   "execution_count": 65,
   "id": "d310684e",
   "metadata": {},
   "outputs": [
    {
     "data": {
      "image/png": "[encoded data removed]",
      "text/plain": [
       "<Figure size 576x360 with 1 Axes>"
      ]
     },
     "metadata": {},
     "output_type": "display_data"
    }
   ],
   "source": [
    "plt.figure(figsize=(8, 5))\n",
    "plt.scatter(y_pred, y_test);"
   ]
  },
  {
   "cell_type": "code",
   "execution_count": 21,
   "id": "72ac0786",
   "metadata": {},
   "outputs": [],
   "source": [
    "#So, mean absolute error around 5.5 years it's not so super result considering mean age is 33, it's about 17%."
   ]
  },
  {
   "cell_type": "code",
   "execution_count": 88,
   "id": "add3e5d2",
   "metadata": {},
   "outputs": [
    {
     "name": "stdout",
     "output_type": "stream",
     "text": [
      "Done\n"
     ]
    }
   ],
   "source": [
    "def face_prediction(image):\n",
    "    \n",
    "    x = image.reshape(1, 48, 48, 1)\n",
    "    x = x / 255\n",
    "    \n",
    "    age_predict = int(age_model.predict(x))\n",
    "    plt.imshow(image)\n",
    "    plt.title('{0}'.format(age_predict) + ' Years Old')\n",
    "    plt.axis('off')\n",
    "print (\"Done\")"
   ]
  },
  {
   "cell_type": "code",
   "execution_count": 89,
   "id": "db3acdea",
   "metadata": {},
   "outputs": [
    {
     "name": "stdout",
     "output_type": "stream",
     "text": [
      "1/1 [==============================] - 0s 85ms/step\n"
     ]
    },
    {
     "data": {
      "image/png": "[encoded data removed]",
      "text/plain": [
       "<Figure size 432x288 with 1 Axes>"
      ]
     },
     "metadata": {},
     "output_type": "display_data"
    }
   ],
   "source": [
    "# Model prediction \n",
    "face_prediction(df['pixels'][random_face])"
   ]
  },
  {
   "cell_type": "code",
   "execution_count": 87,
   "id": "9038fc90",
   "metadata": {},
   "outputs": [
    {
     "name": "stdout",
     "output_type": "stream",
     "text": [
      "done\n"
     ]
    }
   ],
   "source": [
    "age_model.save('age_model.h5')\n",
    "print(\"done\")"
   ]
  },
  {
   "cell_type": "code",
   "execution_count": 69,
   "id": "fa436d65",
   "metadata": {},
   "outputs": [
    {
     "name": "stdout",
     "output_type": "stream",
     "text": [
      "Done\n"
     ]
    }
   ],
   "source": [
    "#load the model\n",
    "from tensorflow import keras\n",
    "model = keras.models.load_model('age_model.h5')\n",
    "print (\"Done\")"
   ]
  },
  {
   "cell_type": "code",
   "execution_count": 22,
   "id": "d9ae3e98",
   "metadata": {},
   "outputs": [],
   "source": [
    "#Gender prediction"
   ]
  },
  {
   "cell_type": "code",
   "execution_count": 23,
   "id": "85894dd9",
   "metadata": {},
   "outputs": [
    {
     "ename": "NameError",
     "evalue": "name 'df' is not defined",
     "output_type": "error",
     "traceback": [
      "\u001b[1;31m---------------------------------------------------------------------------\u001b[0m",
      "\u001b[1;31mNameError\u001b[0m                                 Traceback (most recent call last)",
      "Input \u001b[1;32mIn [23]\u001b[0m, in \u001b[0;36m<cell line: 2>\u001b[1;34m()\u001b[0m\n\u001b[0;32m      1\u001b[0m \u001b[38;5;66;03m# Set y\u001b[39;00m\n\u001b[1;32m----> 2\u001b[0m y \u001b[38;5;241m=\u001b[39m df[\u001b[38;5;124m'\u001b[39m\u001b[38;5;124mgender\u001b[39m\u001b[38;5;124m'\u001b[39m]\u001b[38;5;241m.\u001b[39mvalues\n\u001b[0;32m      4\u001b[0m \u001b[38;5;66;03m# Train test split\u001b[39;00m\n\u001b[0;32m      5\u001b[0m X_train, X_test, y_train, y_test \u001b[38;5;241m=\u001b[39m train_test_split(X_reshaped, y, test_size\u001b[38;5;241m=\u001b[39m\u001b[38;5;241m0.2\u001b[39m, random_state\u001b[38;5;241m=\u001b[39m\u001b[38;5;241m42\u001b[39m)\n",
      "\u001b[1;31mNameError\u001b[0m: name 'df' is not defined"
     ]
    }
   ],
   "source": [
    "# Set y\n",
    "y = df['gender'].values\n",
    "\n",
    "# Train test split\n",
    "X_train, X_test, y_train, y_test = train_test_split(X_reshaped, y, test_size=0.2, random_state=42)\n",
    "gender_model = Sequential()\n",
    "\n",
    "gender_model.add(Conv2D(64, kernel_size=(3,3), input_shape=input_shape, activation='relu'))\n",
    "gender_model.add(MaxPooling2D(pool_size=(2,2)))\n",
    "gender_model.add(BatchNormalization())\n",
    "\n",
    "gender_model.add(Conv2D(128, kernel_size=(3,3), activation='relu'))\n",
    "#gender_model.add(Conv2D(128, kernel_size=(3,3), activation='relu'))\n",
    "gender_model.add(MaxPooling2D(pool_size=(2,2)))\n",
    "gender_model.add(Dropout(0.4))\n",
    "gender_model.add(BatchNormalization())\n",
    "\n",
    "gender_model.add(Conv2D(256, kernel_size=(3,3), activation='relu'))\n",
    "gender_model.add(Conv2D(256, kernel_size=(3,3), activation='relu'))\n",
    "gender_model.add(MaxPooling2D(pool_size=(2,2)))\n",
    "gender_model.add(Dropout(0.5))\n",
    "gender_model.add(BatchNormalization())\n",
    "\n",
    "gender_model.add(Flatten())\n",
    "\n",
    "gender_model.add(Dense(64, activation='relu'))\n",
    "gender_model.add(Dropout(0.4))\n",
    "\n",
    "gender_model.add(Dense(1, activation='sigmoid')) #For binary classification activation function is sigmoid \n",
    "\n",
    "gender_model.compile(optimizer='adam', loss='binary_crossentropy', metrics=['accuracy']) #...and loss function is binary_crossentropy\n",
    "\n",
    "gender_model.summary()"
   ]
  },
  {
   "cell_type": "code",
   "execution_count": 24,
   "id": "0d777533",
   "metadata": {},
   "outputs": [
    {
     "ename": "NameError",
     "evalue": "name 'EarlyStopping' is not defined",
     "output_type": "error",
     "traceback": [
      "\u001b[1;31m---------------------------------------------------------------------------\u001b[0m",
      "\u001b[1;31mNameError\u001b[0m                                 Traceback (most recent call last)",
      "Input \u001b[1;32mIn [24]\u001b[0m, in \u001b[0;36m<cell line: 2>\u001b[1;34m()\u001b[0m\n\u001b[0;32m      1\u001b[0m \u001b[38;5;66;03m# Callbacks for gender model\u001b[39;00m\n\u001b[1;32m----> 2\u001b[0m callbacks \u001b[38;5;241m=\u001b[39m [EarlyStopping(patience\u001b[38;5;241m=\u001b[39m\u001b[38;5;241m4\u001b[39m, monitor\u001b[38;5;241m=\u001b[39m\u001b[38;5;124m'\u001b[39m\u001b[38;5;124mval_accuracy\u001b[39m\u001b[38;5;124m'\u001b[39m, mode\u001b[38;5;241m=\u001b[39m\u001b[38;5;124m'\u001b[39m\u001b[38;5;124mmax\u001b[39m\u001b[38;5;124m'\u001b[39m), \n\u001b[0;32m      3\u001b[0m               ReduceLROnPlateau(patience\u001b[38;5;241m=\u001b[39m\u001b[38;5;241m2\u001b[39m, verbose\u001b[38;5;241m=\u001b[39m\u001b[38;5;241m1\u001b[39m)]\n",
      "\u001b[1;31mNameError\u001b[0m: name 'EarlyStopping' is not defined"
     ]
    }
   ],
   "source": [
    "# Callbacks for gender model\n",
    "callbacks = [EarlyStopping(patience=4, monitor='val_accuracy', mode='max'), \n",
    "              ReduceLROnPlateau(patience=2, verbose=1)]"
   ]
  },
  {
   "cell_type": "code",
   "execution_count": 25,
   "id": "f920309c",
   "metadata": {},
   "outputs": [
    {
     "ename": "NameError",
     "evalue": "name 'gender_model' is not defined",
     "output_type": "error",
     "traceback": [
      "\u001b[1;31m---------------------------------------------------------------------------\u001b[0m",
      "\u001b[1;31mNameError\u001b[0m                                 Traceback (most recent call last)",
      "Input \u001b[1;32mIn [25]\u001b[0m, in \u001b[0;36m<cell line: 1>\u001b[1;34m()\u001b[0m\n\u001b[1;32m----> 1\u001b[0m history \u001b[38;5;241m=\u001b[39m gender_model\u001b[38;5;241m.\u001b[39mfit(X_train, y_train, \n\u001b[0;32m      2\u001b[0m                            epochs\u001b[38;5;241m=\u001b[39mn_epochs,\n\u001b[0;32m      3\u001b[0m                            batch_size\u001b[38;5;241m=\u001b[39mbatch_size,\n\u001b[0;32m      4\u001b[0m                            callbacks\u001b[38;5;241m=\u001b[39mcallbacks,\n\u001b[0;32m      5\u001b[0m                            validation_data\u001b[38;5;241m=\u001b[39m(X_test, y_test))\n",
      "\u001b[1;31mNameError\u001b[0m: name 'gender_model' is not defined"
     ]
    }
   ],
   "source": [
    "history = gender_model.fit(X_train, y_train, \n",
    "                           epochs=n_epochs,\n",
    "                           batch_size=batch_size,\n",
    "                           callbacks=callbacks,\n",
    "                           validation_data=(X_test, y_test))"
   ]
  },
  {
   "cell_type": "code",
   "execution_count": 26,
   "id": "304d27a3",
   "metadata": {},
   "outputs": [
    {
     "ename": "NameError",
     "evalue": "name 'gender_model' is not defined",
     "output_type": "error",
     "traceback": [
      "\u001b[1;31m---------------------------------------------------------------------------\u001b[0m",
      "\u001b[1;31mNameError\u001b[0m                                 Traceback (most recent call last)",
      "Input \u001b[1;32mIn [26]\u001b[0m, in \u001b[0;36m<cell line: 2>\u001b[1;34m()\u001b[0m\n\u001b[0;32m      1\u001b[0m \u001b[38;5;66;03m# Metrics\u001b[39;00m\n\u001b[1;32m----> 2\u001b[0m valid_score \u001b[38;5;241m=\u001b[39m gender_model\u001b[38;5;241m.\u001b[39mevaluate(X_test, y_test, verbose\u001b[38;5;241m=\u001b[39m\u001b[38;5;241m1\u001b[39m)\n\u001b[0;32m      3\u001b[0m \u001b[38;5;28mprint\u001b[39m(\u001b[38;5;124m'\u001b[39m\u001b[38;5;124mAccuracy for test set: \u001b[39m\u001b[38;5;132;01m{0}\u001b[39;00m\u001b[38;5;124m'\u001b[39m\u001b[38;5;241m.\u001b[39mformat(valid_score[\u001b[38;5;241m1\u001b[39m]))\n",
      "\u001b[1;31mNameError\u001b[0m: name 'gender_model' is not defined"
     ]
    }
   ],
   "source": [
    "# Metrics\n",
    "valid_score = gender_model.evaluate(X_test, y_test, verbose=1)\n",
    "print('Accuracy for test set: {0}'.format(valid_score[1]))"
   ]
  },
  {
   "cell_type": "code",
   "execution_count": 27,
   "id": "2330375f",
   "metadata": {},
   "outputs": [
    {
     "ename": "NameError",
     "evalue": "name 'gender_model' is not defined",
     "output_type": "error",
     "traceback": [
      "\u001b[1;31m---------------------------------------------------------------------------\u001b[0m",
      "\u001b[1;31mNameError\u001b[0m                                 Traceback (most recent call last)",
      "Input \u001b[1;32mIn [27]\u001b[0m, in \u001b[0;36m<cell line: 1>\u001b[1;34m()\u001b[0m\n\u001b[1;32m----> 1\u001b[0m y_pred \u001b[38;5;241m=\u001b[39m gender_model\u001b[38;5;241m.\u001b[39mpredict_classes(X_test)\n",
      "\u001b[1;31mNameError\u001b[0m: name 'gender_model' is not defined"
     ]
    }
   ],
   "source": [
    "y_pred = gender_model.predict_classes(X_test)"
   ]
  },
  {
   "cell_type": "code",
   "execution_count": 28,
   "id": "6815a73b",
   "metadata": {},
   "outputs": [
    {
     "ename": "NameError",
     "evalue": "name 'classification_report' is not defined",
     "output_type": "error",
     "traceback": [
      "\u001b[1;31m---------------------------------------------------------------------------\u001b[0m",
      "\u001b[1;31mNameError\u001b[0m                                 Traceback (most recent call last)",
      "Input \u001b[1;32mIn [28]\u001b[0m, in \u001b[0;36m<cell line: 1>\u001b[1;34m()\u001b[0m\n\u001b[1;32m----> 1\u001b[0m \u001b[38;5;28mprint\u001b[39m(classification_report(y_test, y_pred))\n",
      "\u001b[1;31mNameError\u001b[0m: name 'classification_report' is not defined"
     ]
    }
   ],
   "source": [
    "print(classification_report(y_test, y_pred))"
   ]
  },
  {
   "cell_type": "code",
   "execution_count": 29,
   "id": "1d239c67",
   "metadata": {},
   "outputs": [
    {
     "ename": "NameError",
     "evalue": "name 'confusion_matrix' is not defined",
     "output_type": "error",
     "traceback": [
      "\u001b[1;31m---------------------------------------------------------------------------\u001b[0m",
      "\u001b[1;31mNameError\u001b[0m                                 Traceback (most recent call last)",
      "Input \u001b[1;32mIn [29]\u001b[0m, in \u001b[0;36m<cell line: 2>\u001b[1;34m()\u001b[0m\n\u001b[0;32m      1\u001b[0m \u001b[38;5;66;03m# Confusion matrix\u001b[39;00m\n\u001b[1;32m----> 2\u001b[0m cm \u001b[38;5;241m=\u001b[39m confusion_matrix(y_test, y_pred)\n\u001b[0;32m      3\u001b[0m sns\u001b[38;5;241m.\u001b[39mheatmap(cm, cmap\u001b[38;5;241m=\u001b[39m\u001b[38;5;124m'\u001b[39m\u001b[38;5;124mGreens\u001b[39m\u001b[38;5;124m'\u001b[39m, cbar\u001b[38;5;241m=\u001b[39m\u001b[38;5;28;01mFalse\u001b[39;00m, annot\u001b[38;5;241m=\u001b[39m\u001b[38;5;28;01mTrue\u001b[39;00m, fmt\u001b[38;5;241m=\u001b[39m\u001b[38;5;124m'\u001b[39m\u001b[38;5;124md\u001b[39m\u001b[38;5;124m'\u001b[39m)\n",
      "\u001b[1;31mNameError\u001b[0m: name 'confusion_matrix' is not defined"
     ]
    }
   ],
   "source": [
    "# Confusion matrix\n",
    "cm = confusion_matrix(y_test, y_pred)\n",
    "sns.heatmap(cm, cmap='Greens', cbar=False, annot=True, fmt='d');"
   ]
  },
  {
   "cell_type": "code",
   "execution_count": 30,
   "id": "b49a034e",
   "metadata": {},
   "outputs": [],
   "source": [
    "#I suppose big part of this mistakes is children. Let's see some examples where's model had made mistake."
   ]
  },
  {
   "cell_type": "code",
   "execution_count": 31,
   "id": "171e8e84",
   "metadata": {},
   "outputs": [
    {
     "ename": "NameError",
     "evalue": "name 'y_pred' is not defined",
     "output_type": "error",
     "traceback": [
      "\u001b[1;31m---------------------------------------------------------------------------\u001b[0m",
      "\u001b[1;31mNameError\u001b[0m                                 Traceback (most recent call last)",
      "Input \u001b[1;32mIn [31]\u001b[0m, in \u001b[0;36m<cell line: 1>\u001b[1;34m()\u001b[0m\n\u001b[1;32m----> 1\u001b[0m y_pred \u001b[38;5;241m=\u001b[39m y_pred\u001b[38;5;241m.\u001b[39mreshape(y_pred\u001b[38;5;241m.\u001b[39mshape[\u001b[38;5;241m0\u001b[39m])\n",
      "\u001b[1;31mNameError\u001b[0m: name 'y_pred' is not defined"
     ]
    }
   ],
   "source": [
    "y_pred = y_pred.reshape(y_pred.shape[0])"
   ]
  },
  {
   "cell_type": "code",
   "execution_count": 32,
   "id": "7e0a9abe",
   "metadata": {},
   "outputs": [
    {
     "ename": "NameError",
     "evalue": "name 'X_test' is not defined",
     "output_type": "error",
     "traceback": [
      "\u001b[1;31m---------------------------------------------------------------------------\u001b[0m",
      "\u001b[1;31mNameError\u001b[0m                                 Traceback (most recent call last)",
      "Input \u001b[1;32mIn [32]\u001b[0m, in \u001b[0;36m<cell line: 3>\u001b[1;34m()\u001b[0m\n\u001b[0;32m      1\u001b[0m \u001b[38;5;66;03m# Model predict is female, but actually it's male\u001b[39;00m\n\u001b[1;32m----> 3\u001b[0m X_fp \u001b[38;5;241m=\u001b[39m X_test[(y_pred \u001b[38;5;241m==\u001b[39m \u001b[38;5;241m1\u001b[39m) \u001b[38;5;241m&\u001b[39m (y_test \u001b[38;5;241m==\u001b[39m \u001b[38;5;241m0\u001b[39m)] \n\u001b[0;32m      5\u001b[0m fig, axes \u001b[38;5;241m=\u001b[39m plt\u001b[38;5;241m.\u001b[39msubplots(\u001b[38;5;241m1\u001b[39m, \u001b[38;5;241m5\u001b[39m, figsize\u001b[38;5;241m=\u001b[39m(\u001b[38;5;241m20\u001b[39m, \u001b[38;5;241m10\u001b[39m))\n\u001b[0;32m      7\u001b[0m \u001b[38;5;28;01mfor\u001b[39;00m i \u001b[38;5;129;01min\u001b[39;00m \u001b[38;5;28mrange\u001b[39m(\u001b[38;5;241m5\u001b[39m):\n",
      "\u001b[1;31mNameError\u001b[0m: name 'X_test' is not defined"
     ]
    }
   ],
   "source": [
    "# Model predict is female, but actually it's male\n",
    "\n",
    "X_fp = X_test[(y_pred == 1) & (y_test == 0)] \n",
    "\n",
    "fig, axes = plt.subplots(1, 5, figsize=(20, 10))\n",
    "\n",
    "for i in range(5):\n",
    "    \n",
    "    random_choice = np.random.choice(len(X_fp))\n",
    "    \n",
    "    axes[i].imshow(X_fp[random_choice].reshape(48, 48))\n",
    "    axes[i].axis('off')"
   ]
  },
  {
   "cell_type": "code",
   "execution_count": 33,
   "id": "c0744962",
   "metadata": {},
   "outputs": [
    {
     "ename": "NameError",
     "evalue": "name 'X_test' is not defined",
     "output_type": "error",
     "traceback": [
      "\u001b[1;31m---------------------------------------------------------------------------\u001b[0m",
      "\u001b[1;31mNameError\u001b[0m                                 Traceback (most recent call last)",
      "Input \u001b[1;32mIn [33]\u001b[0m, in \u001b[0;36m<cell line: 3>\u001b[1;34m()\u001b[0m\n\u001b[0;32m      1\u001b[0m \u001b[38;5;66;03m# Model predict is male, but actually it's female\u001b[39;00m\n\u001b[1;32m----> 3\u001b[0m X_fn \u001b[38;5;241m=\u001b[39m X_test[(y_pred \u001b[38;5;241m==\u001b[39m \u001b[38;5;241m0\u001b[39m) \u001b[38;5;241m&\u001b[39m (y_test \u001b[38;5;241m==\u001b[39m \u001b[38;5;241m1\u001b[39m)]  \n\u001b[0;32m      5\u001b[0m fig, axes \u001b[38;5;241m=\u001b[39m plt\u001b[38;5;241m.\u001b[39msubplots(\u001b[38;5;241m1\u001b[39m, \u001b[38;5;241m5\u001b[39m, figsize\u001b[38;5;241m=\u001b[39m(\u001b[38;5;241m20\u001b[39m, \u001b[38;5;241m10\u001b[39m))\n\u001b[0;32m      7\u001b[0m \u001b[38;5;28;01mfor\u001b[39;00m i \u001b[38;5;129;01min\u001b[39;00m \u001b[38;5;28mrange\u001b[39m(\u001b[38;5;241m5\u001b[39m):\n",
      "\u001b[1;31mNameError\u001b[0m: name 'X_test' is not defined"
     ]
    }
   ],
   "source": [
    "# Model predict is male, but actually it's female\n",
    "\n",
    "X_fn = X_test[(y_pred == 0) & (y_test == 1)]  \n",
    "\n",
    "fig, axes = plt.subplots(1, 5, figsize=(20, 10))\n",
    "\n",
    "for i in range(5):\n",
    "    \n",
    "    random_choice = np.random.choice(len(X_fn))\n",
    "    axes[i].imshow(X_fn[random_choice].reshape(48, 48))\n",
    "    axes[i].axis('off')"
   ]
  },
  {
   "cell_type": "code",
   "execution_count": 34,
   "id": "52f971e2",
   "metadata": {},
   "outputs": [],
   "source": [
    "#So, on many photos difference between genders are not so clear."
   ]
  },
  {
   "cell_type": "code",
   "execution_count": 35,
   "id": "6d0e9c79",
   "metadata": {},
   "outputs": [],
   "source": [
    "#Ethnicity prediction"
   ]
  },
  {
   "cell_type": "code",
   "execution_count": 36,
   "id": "ec88e700",
   "metadata": {},
   "outputs": [
    {
     "ename": "NameError",
     "evalue": "name 'df' is not defined",
     "output_type": "error",
     "traceback": [
      "\u001b[1;31m---------------------------------------------------------------------------\u001b[0m",
      "\u001b[1;31mNameError\u001b[0m                                 Traceback (most recent call last)",
      "Input \u001b[1;32mIn [36]\u001b[0m, in \u001b[0;36m<cell line: 2>\u001b[1;34m()\u001b[0m\n\u001b[0;32m      1\u001b[0m \u001b[38;5;66;03m# Set y\u001b[39;00m\n\u001b[1;32m----> 2\u001b[0m y \u001b[38;5;241m=\u001b[39m df[\u001b[38;5;124m'\u001b[39m\u001b[38;5;124methnicity\u001b[39m\u001b[38;5;124m'\u001b[39m]\u001b[38;5;241m.\u001b[39mvalues\n\u001b[0;32m      4\u001b[0m \u001b[38;5;66;03m# Multiclass problem transform to one_hot_encoding\u001b[39;00m\n\u001b[0;32m      5\u001b[0m y \u001b[38;5;241m=\u001b[39m to_categorical(y, \u001b[38;5;241m5\u001b[39m)\n",
      "\u001b[1;31mNameError\u001b[0m: name 'df' is not defined"
     ]
    }
   ],
   "source": [
    "# Set y\n",
    "y = df['ethnicity'].values\n",
    "\n",
    "# Multiclass problem transform to one_hot_encoding\n",
    "y = to_categorical(y, 5)\n",
    "\n",
    "# Train test split\n",
    "X_train, X_test, y_train, y_test = train_test_split(X_reshaped, y, test_size=0.2, random_state=42)"
   ]
  },
  {
   "cell_type": "code",
   "execution_count": 37,
   "id": "54c44e22",
   "metadata": {},
   "outputs": [
    {
     "ename": "NameError",
     "evalue": "name 'Sequential' is not defined",
     "output_type": "error",
     "traceback": [
      "\u001b[1;31m---------------------------------------------------------------------------\u001b[0m",
      "\u001b[1;31mNameError\u001b[0m                                 Traceback (most recent call last)",
      "Input \u001b[1;32mIn [37]\u001b[0m, in \u001b[0;36m<cell line: 1>\u001b[1;34m()\u001b[0m\n\u001b[1;32m----> 1\u001b[0m eth_model \u001b[38;5;241m=\u001b[39m Sequential()\n\u001b[0;32m      3\u001b[0m eth_model\u001b[38;5;241m.\u001b[39madd(Conv2D(\u001b[38;5;241m64\u001b[39m, kernel_size\u001b[38;5;241m=\u001b[39m(\u001b[38;5;241m3\u001b[39m,\u001b[38;5;241m3\u001b[39m), input_shape\u001b[38;5;241m=\u001b[39minput_shape, activation\u001b[38;5;241m=\u001b[39m\u001b[38;5;124m'\u001b[39m\u001b[38;5;124mrelu\u001b[39m\u001b[38;5;124m'\u001b[39m))\n\u001b[0;32m      4\u001b[0m eth_model\u001b[38;5;241m.\u001b[39madd(MaxPooling2D(pool_size\u001b[38;5;241m=\u001b[39m(\u001b[38;5;241m2\u001b[39m,\u001b[38;5;241m2\u001b[39m)))\n",
      "\u001b[1;31mNameError\u001b[0m: name 'Sequential' is not defined"
     ]
    }
   ],
   "source": [
    "eth_model = Sequential()\n",
    "\n",
    "eth_model.add(Conv2D(64, kernel_size=(3,3), input_shape=input_shape, activation='relu'))\n",
    "eth_model.add(MaxPooling2D(pool_size=(2,2)))\n",
    "eth_model.add(BatchNormalization())\n",
    "\n",
    "eth_model.add(Conv2D(128, kernel_size=(3,3), activation='relu'))\n",
    "eth_model.add(MaxPooling2D(pool_size=(2,2)))\n",
    "eth_model.add(BatchNormalization())\n",
    "\n",
    "eth_model.add(Conv2D(256, kernel_size=(3,3), activation='relu'))\n",
    "eth_model.add(MaxPooling2D(pool_size=(2,2)))\n",
    "eth_model.add(Dropout(0.5))\n",
    "eth_model.add(BatchNormalization())\n",
    "\n",
    "eth_model.add(Flatten())\n",
    "eth_model.add(Dense(128, activation='relu'))\n",
    "eth_model.add(Dropout(0.5))\n",
    "eth_model.add(Dense(5, activation='softmax')) #For multiclass classification activation function is softmax \n",
    "\n",
    "eth_model.compile(optimizer='adam', loss='categorical_crossentropy', metrics=['accuracy']) #...and loss function is categorical_crossentropy\n",
    "\n",
    "eth_model.summary()"
   ]
  },
  {
   "cell_type": "code",
   "execution_count": 38,
   "id": "a6128c66",
   "metadata": {},
   "outputs": [
    {
     "ename": "NameError",
     "evalue": "name 'EarlyStopping' is not defined",
     "output_type": "error",
     "traceback": [
      "\u001b[1;31m---------------------------------------------------------------------------\u001b[0m",
      "\u001b[1;31mNameError\u001b[0m                                 Traceback (most recent call last)",
      "Input \u001b[1;32mIn [38]\u001b[0m, in \u001b[0;36m<cell line: 2>\u001b[1;34m()\u001b[0m\n\u001b[0;32m      1\u001b[0m \u001b[38;5;66;03m# Callbacks for ethnicity model\u001b[39;00m\n\u001b[1;32m----> 2\u001b[0m callbacks \u001b[38;5;241m=\u001b[39m [EarlyStopping(patience\u001b[38;5;241m=\u001b[39m\u001b[38;5;241m4\u001b[39m, monitor\u001b[38;5;241m=\u001b[39m\u001b[38;5;124m'\u001b[39m\u001b[38;5;124mval_accuracy\u001b[39m\u001b[38;5;124m'\u001b[39m, mode\u001b[38;5;241m=\u001b[39m\u001b[38;5;124m'\u001b[39m\u001b[38;5;124mmax\u001b[39m\u001b[38;5;124m'\u001b[39m), \n\u001b[0;32m      3\u001b[0m              ReduceLROnPlateau(patience\u001b[38;5;241m=\u001b[39m\u001b[38;5;241m2\u001b[39m, verbose\u001b[38;5;241m=\u001b[39m\u001b[38;5;241m1\u001b[39m)]\n",
      "\u001b[1;31mNameError\u001b[0m: name 'EarlyStopping' is not defined"
     ]
    }
   ],
   "source": [
    "# Callbacks for ethnicity model\n",
    "callbacks = [EarlyStopping(patience=4, monitor='val_accuracy', mode='max'), \n",
    "             ReduceLROnPlateau(patience=2, verbose=1)]"
   ]
  },
  {
   "cell_type": "code",
   "execution_count": 39,
   "id": "5704aa8a",
   "metadata": {},
   "outputs": [
    {
     "ename": "NameError",
     "evalue": "name 'eth_model' is not defined",
     "output_type": "error",
     "traceback": [
      "\u001b[1;31m---------------------------------------------------------------------------\u001b[0m",
      "\u001b[1;31mNameError\u001b[0m                                 Traceback (most recent call last)",
      "Input \u001b[1;32mIn [39]\u001b[0m, in \u001b[0;36m<cell line: 1>\u001b[1;34m()\u001b[0m\n\u001b[1;32m----> 1\u001b[0m history \u001b[38;5;241m=\u001b[39m eth_model\u001b[38;5;241m.\u001b[39mfit(X_train, y_train, \n\u001b[0;32m      2\u001b[0m                          epochs\u001b[38;5;241m=\u001b[39mn_epochs,\n\u001b[0;32m      3\u001b[0m                          batch_size\u001b[38;5;241m=\u001b[39mbatch_size,\n\u001b[0;32m      4\u001b[0m                          callbacks\u001b[38;5;241m=\u001b[39mcallbacks,\n\u001b[0;32m      5\u001b[0m                          validation_data\u001b[38;5;241m=\u001b[39m(X_test, y_test))\n",
      "\u001b[1;31mNameError\u001b[0m: name 'eth_model' is not defined"
     ]
    }
   ],
   "source": [
    "history = eth_model.fit(X_train, y_train, \n",
    "                         epochs=n_epochs,\n",
    "                         batch_size=batch_size,\n",
    "                         callbacks=callbacks,\n",
    "                         validation_data=(X_test, y_test))"
   ]
  },
  {
   "cell_type": "code",
   "execution_count": 40,
   "id": "8c7c0880",
   "metadata": {},
   "outputs": [
    {
     "ename": "NameError",
     "evalue": "name 'eth_model' is not defined",
     "output_type": "error",
     "traceback": [
      "\u001b[1;31m---------------------------------------------------------------------------\u001b[0m",
      "\u001b[1;31mNameError\u001b[0m                                 Traceback (most recent call last)",
      "Input \u001b[1;32mIn [40]\u001b[0m, in \u001b[0;36m<cell line: 1>\u001b[1;34m()\u001b[0m\n\u001b[1;32m----> 1\u001b[0m valid_score \u001b[38;5;241m=\u001b[39m eth_model\u001b[38;5;241m.\u001b[39mevaluate(X_test, y_test, verbose\u001b[38;5;241m=\u001b[39m\u001b[38;5;241m1\u001b[39m)\n",
      "\u001b[1;31mNameError\u001b[0m: name 'eth_model' is not defined"
     ]
    }
   ],
   "source": [
    "valid_score = eth_model.evaluate(X_test, y_test, verbose=1)"
   ]
  },
  {
   "cell_type": "code",
   "execution_count": 41,
   "id": "6bea996b",
   "metadata": {},
   "outputs": [
    {
     "ename": "NameError",
     "evalue": "name 'eth_model' is not defined",
     "output_type": "error",
     "traceback": [
      "\u001b[1;31m---------------------------------------------------------------------------\u001b[0m",
      "\u001b[1;31mNameError\u001b[0m                                 Traceback (most recent call last)",
      "Input \u001b[1;32mIn [41]\u001b[0m, in \u001b[0;36m<cell line: 1>\u001b[1;34m()\u001b[0m\n\u001b[1;32m----> 1\u001b[0m y_pred \u001b[38;5;241m=\u001b[39m eth_model\u001b[38;5;241m.\u001b[39mpredict_classes(X_test)\n",
      "\u001b[1;31mNameError\u001b[0m: name 'eth_model' is not defined"
     ]
    }
   ],
   "source": [
    "y_pred = eth_model.predict_classes(X_test)"
   ]
  },
  {
   "cell_type": "code",
   "execution_count": 42,
   "id": "c9150d21",
   "metadata": {},
   "outputs": [
    {
     "ename": "NameError",
     "evalue": "name 'y_test' is not defined",
     "output_type": "error",
     "traceback": [
      "\u001b[1;31m---------------------------------------------------------------------------\u001b[0m",
      "\u001b[1;31mNameError\u001b[0m                                 Traceback (most recent call last)",
      "Input \u001b[1;32mIn [42]\u001b[0m, in \u001b[0;36m<cell line: 2>\u001b[1;34m()\u001b[0m\n\u001b[0;32m      1\u001b[0m \u001b[38;5;66;03m# Convert to 0 to 4 scale \u001b[39;00m\n\u001b[1;32m----> 2\u001b[0m y_test_labels \u001b[38;5;241m=\u001b[39m [np\u001b[38;5;241m.\u001b[39margmax(i) \u001b[38;5;28;01mfor\u001b[39;00m i \u001b[38;5;129;01min\u001b[39;00m y_test]\n",
      "\u001b[1;31mNameError\u001b[0m: name 'y_test' is not defined"
     ]
    }
   ],
   "source": [
    "# Convert to 0 to 4 scale \n",
    "y_test_labels = [np.argmax(i) for i in y_test]"
   ]
  },
  {
   "cell_type": "code",
   "execution_count": 43,
   "id": "ac328edd",
   "metadata": {},
   "outputs": [
    {
     "ename": "NameError",
     "evalue": "name 'classification_report' is not defined",
     "output_type": "error",
     "traceback": [
      "\u001b[1;31m---------------------------------------------------------------------------\u001b[0m",
      "\u001b[1;31mNameError\u001b[0m                                 Traceback (most recent call last)",
      "Input \u001b[1;32mIn [43]\u001b[0m, in \u001b[0;36m<cell line: 1>\u001b[1;34m()\u001b[0m\n\u001b[1;32m----> 1\u001b[0m \u001b[38;5;28mprint\u001b[39m(classification_report(y_test_labels, y_pred))\n",
      "\u001b[1;31mNameError\u001b[0m: name 'classification_report' is not defined"
     ]
    }
   ],
   "source": [
    "print(classification_report(y_test_labels, y_pred))"
   ]
  },
  {
   "cell_type": "code",
   "execution_count": 44,
   "id": "3ac0a609",
   "metadata": {},
   "outputs": [
    {
     "ename": "NameError",
     "evalue": "name 'confusion_matrix' is not defined",
     "output_type": "error",
     "traceback": [
      "\u001b[1;31m---------------------------------------------------------------------------\u001b[0m",
      "\u001b[1;31mNameError\u001b[0m                                 Traceback (most recent call last)",
      "Input \u001b[1;32mIn [44]\u001b[0m, in \u001b[0;36m<cell line: 2>\u001b[1;34m()\u001b[0m\n\u001b[0;32m      1\u001b[0m \u001b[38;5;66;03m# Confusion matrix\u001b[39;00m\n\u001b[1;32m----> 2\u001b[0m cm \u001b[38;5;241m=\u001b[39m confusion_matrix(y_test_labels, y_pred)\n\u001b[0;32m      4\u001b[0m np\u001b[38;5;241m.\u001b[39mfill_diagonal(cm, \u001b[38;5;241m0\u001b[39m) \u001b[38;5;66;03m#Fill diagonal with 0 for better visualisation\u001b[39;00m\n\u001b[0;32m      5\u001b[0m sns\u001b[38;5;241m.\u001b[39mheatmap(cm, annot\u001b[38;5;241m=\u001b[39m\u001b[38;5;28;01mTrue\u001b[39;00m, fmt\u001b[38;5;241m=\u001b[39m\u001b[38;5;124m'\u001b[39m\u001b[38;5;124md\u001b[39m\u001b[38;5;124m'\u001b[39m, cbar\u001b[38;5;241m=\u001b[39m\u001b[38;5;28;01mFalse\u001b[39;00m, cmap\u001b[38;5;241m=\u001b[39m\u001b[38;5;124m'\u001b[39m\u001b[38;5;124mGreens\u001b[39m\u001b[38;5;124m'\u001b[39m)\n",
      "\u001b[1;31mNameError\u001b[0m: name 'confusion_matrix' is not defined"
     ]
    }
   ],
   "source": [
    "# Confusion matrix\n",
    "cm = confusion_matrix(y_test_labels, y_pred)\n",
    "\n",
    "np.fill_diagonal(cm, 0) #Fill diagonal with 0 for better visualisation\n",
    "sns.heatmap(cm, annot=True, fmt='d', cbar=False, cmap='Greens');"
   ]
  },
  {
   "cell_type": "code",
   "execution_count": 45,
   "id": "15a217c9",
   "metadata": {},
   "outputs": [],
   "source": [
    "def face_prediction(image):\n",
    "    \n",
    "    x = image.reshape(1, 48, 48, 1)\n",
    "    x = x / 255\n",
    "    \n",
    "    age_predict = int(age_model.predict(x))\n",
    "    gender_predict = int(gender_model.predict_classes(x))\n",
    "    ethnicity_predict = int(eth_model.predict_classes(x))\n",
    "    \n",
    "    gender = {0: 'Male', 1: 'Female'}\n",
    "    eth_group = {0: 'White', 1: 'Black', 2: 'Asian', 3: 'Indian', 4: 'Other'} \n",
    "    \n",
    "    plt.imshow(image)\n",
    "    plt.title('{0}, {1}, {2}'.format(age_predict, gender[gender_predict], eth_group[ethnicity_predict]))\n",
    "    plt.axis('off')"
   ]
  },
  {
   "cell_type": "code",
   "execution_count": 46,
   "id": "5dcea56e",
   "metadata": {},
   "outputs": [
    {
     "ename": "NameError",
     "evalue": "name 'df' is not defined",
     "output_type": "error",
     "traceback": [
      "\u001b[1;31m---------------------------------------------------------------------------\u001b[0m",
      "\u001b[1;31mNameError\u001b[0m                                 Traceback (most recent call last)",
      "Input \u001b[1;32mIn [46]\u001b[0m, in \u001b[0;36m<cell line: 2>\u001b[1;34m()\u001b[0m\n\u001b[0;32m      1\u001b[0m \u001b[38;5;66;03m# Final check\u001b[39;00m\n\u001b[1;32m----> 2\u001b[0m random_face \u001b[38;5;241m=\u001b[39m np\u001b[38;5;241m.\u001b[39mrandom\u001b[38;5;241m.\u001b[39mchoice(\u001b[38;5;28mlen\u001b[39m(df))\n\u001b[0;32m      4\u001b[0m age \u001b[38;5;241m=\u001b[39m df[\u001b[38;5;124m'\u001b[39m\u001b[38;5;124mage\u001b[39m\u001b[38;5;124m'\u001b[39m][random_face]\n\u001b[0;32m      5\u001b[0m ethnicity \u001b[38;5;241m=\u001b[39m df[\u001b[38;5;124m'\u001b[39m\u001b[38;5;124methnicity\u001b[39m\u001b[38;5;124m'\u001b[39m][random_face]\n",
      "\u001b[1;31mNameError\u001b[0m: name 'df' is not defined"
     ]
    }
   ],
   "source": [
    "# Final check\n",
    "random_face = np.random.choice(len(df))\n",
    "\n",
    "age = df['age'][random_face]\n",
    "ethnicity = df['ethnicity'][random_face]\n",
    "gender = df['gender'][random_face]\n",
    "\n",
    "plt.imshow(df['pixels'][random_face])\n",
    "plt.title('Age: {0}, Sex: {1}, Ethnicity: {2},'.format(age, gender, ethnicity))\n",
    "plt.axis('off');"
   ]
  },
  {
   "cell_type": "code",
   "execution_count": 47,
   "id": "70f79d6a",
   "metadata": {},
   "outputs": [
    {
     "ename": "NameError",
     "evalue": "name 'df' is not defined",
     "output_type": "error",
     "traceback": [
      "\u001b[1;31m---------------------------------------------------------------------------\u001b[0m",
      "\u001b[1;31mNameError\u001b[0m                                 Traceback (most recent call last)",
      "Input \u001b[1;32mIn [47]\u001b[0m, in \u001b[0;36m<cell line: 2>\u001b[1;34m()\u001b[0m\n\u001b[0;32m      1\u001b[0m \u001b[38;5;66;03m# Model prediction \u001b[39;00m\n\u001b[1;32m----> 2\u001b[0m face_prediction(df[\u001b[38;5;124m'\u001b[39m\u001b[38;5;124mpixels\u001b[39m\u001b[38;5;124m'\u001b[39m][random_face])\n",
      "\u001b[1;31mNameError\u001b[0m: name 'df' is not defined"
     ]
    }
   ],
   "source": [
    "# Model prediction \n",
    "face_prediction(df['pixels'][random_face])"
   ]
  },
  {
   "cell_type": "code",
   "execution_count": null,
   "id": "9d36be6f",
   "metadata": {},
   "outputs": [],
   "source": []
  }
 ],
 "metadata": {
  "kernelspec": {
   "display_name": "Python 3 (ipykernel)",
   "language": "python",
   "name": "python3"
  },
  "language_info": {
   "codemirror_mode": {
    "name": "ipython",
    "version": 3
   },
   "file_extension": ".py",
   "mimetype": "text/x-python",
   "name": "python",
   "nbconvert_exporter": "python",
   "pygments_lexer": "ipython3",
   "version": "3.10.2"
  }
 },
 "nbformat": 4,
 "nbformat_minor": 5
}
